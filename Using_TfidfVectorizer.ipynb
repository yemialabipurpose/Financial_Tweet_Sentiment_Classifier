{
  "cells": [
    {
      "cell_type": "code",
      "execution_count": 18,
      "metadata": {
        "colab": {
          "base_uri": "https://localhost:8080/"
        },
        "id": "QtUdMDm_AVsC",
        "outputId": "8c8ae875-8f36-478b-8b6a-42eae5cf0267"
      },
      "outputs": [
        {
          "name": "stdout",
          "output_type": "stream",
          "text": [
            "Requirement already satisfied: nltk in c:\\users\\yemia\\appdata\\local\\packages\\pythonsoftwarefoundation.python.3.9_qbz5n2kfra8p0\\localcache\\local-packages\\python39\\site-packages (3.8.1)\n",
            "Collecting scikit-learn\n",
            "  Downloading scikit_learn-1.3.0-cp39-cp39-win_amd64.whl (9.3 MB)\n",
            "     ---------------------------------------- 9.3/9.3 MB 19.2 MB/s eta 0:00:00\n",
            "Requirement already satisfied: regex>=2021.8.3 in c:\\users\\yemia\\appdata\\local\\packages\\pythonsoftwarefoundation.python.3.9_qbz5n2kfra8p0\\localcache\\local-packages\\python39\\site-packages (from nltk) (2023.6.3)\n",
            "Requirement already satisfied: joblib in c:\\users\\yemia\\appdata\\local\\packages\\pythonsoftwarefoundation.python.3.9_qbz5n2kfra8p0\\localcache\\local-packages\\python39\\site-packages (from nltk) (1.3.1)\n",
            "Requirement already satisfied: tqdm in c:\\users\\yemia\\appdata\\local\\packages\\pythonsoftwarefoundation.python.3.9_qbz5n2kfra8p0\\localcache\\local-packages\\python39\\site-packages (from nltk) (4.65.0)\n",
            "Requirement already satisfied: click in c:\\users\\yemia\\appdata\\local\\packages\\pythonsoftwarefoundation.python.3.9_qbz5n2kfra8p0\\localcache\\local-packages\\python39\\site-packages (from nltk) (8.1.6)\n",
            "Collecting threadpoolctl>=2.0.0\n",
            "  Downloading threadpoolctl-3.2.0-py3-none-any.whl (15 kB)\n",
            "Requirement already satisfied: numpy>=1.17.3 in c:\\users\\yemia\\appdata\\local\\packages\\pythonsoftwarefoundation.python.3.9_qbz5n2kfra8p0\\localcache\\local-packages\\python39\\site-packages (from scikit-learn) (1.24.3)\n",
            "Requirement already satisfied: scipy>=1.5.0 in c:\\users\\yemia\\appdata\\local\\packages\\pythonsoftwarefoundation.python.3.9_qbz5n2kfra8p0\\localcache\\local-packages\\python39\\site-packages (from scikit-learn) (1.11.1)\n",
            "Requirement already satisfied: colorama in c:\\users\\yemia\\appdata\\local\\packages\\pythonsoftwarefoundation.python.3.9_qbz5n2kfra8p0\\localcache\\local-packages\\python39\\site-packages (from click->nltk) (0.4.6)\n",
            "Installing collected packages: threadpoolctl, scikit-learn\n",
            "Successfully installed scikit-learn-1.3.0 threadpoolctl-3.2.0\n",
            "Note: you may need to restart the kernel to use updated packages.\n"
          ]
        },
        {
          "name": "stderr",
          "output_type": "stream",
          "text": [
            "WARNING: You are using pip version 22.0.4; however, version 23.2 is available.\n",
            "You should consider upgrading via the 'C:\\Users\\yemia\\AppData\\Local\\Microsoft\\WindowsApps\\PythonSoftwareFoundation.Python.3.9_qbz5n2kfra8p0\\python.exe -m pip install --upgrade pip' command.\n"
          ]
        }
      ],
      "source": [
        "pip install nltk scikit-learn"
      ]
    },
    {
      "cell_type": "code",
      "execution_count": 22,
      "metadata": {},
      "outputs": [],
      "source": [
        "import pandas as pd\n",
        "import re\n",
        "import nltk\n",
        "from nltk.corpus import stopwords\n",
        "from nltk.stem import PorterStemmer\n",
        "from sklearn.feature_extraction.text import TfidfVectorizer\n",
        "from sklearn.naive_bayes import MultinomialNB\n",
        "from sklearn.metrics import accuracy_score, classification_report"
      ]
    },
    {
      "cell_type": "code",
      "execution_count": 3,
      "metadata": {},
      "outputs": [
        {
          "data": {
            "text/html": [
              "<div>\n",
              "<style scoped>\n",
              "    .dataframe tbody tr th:only-of-type {\n",
              "        vertical-align: middle;\n",
              "    }\n",
              "\n",
              "    .dataframe tbody tr th {\n",
              "        vertical-align: top;\n",
              "    }\n",
              "\n",
              "    .dataframe thead th {\n",
              "        text-align: right;\n",
              "    }\n",
              "</style>\n",
              "<table border=\"1\" class=\"dataframe\">\n",
              "  <thead>\n",
              "    <tr style=\"text-align: right;\">\n",
              "      <th></th>\n",
              "      <th>text</th>\n",
              "      <th>label</th>\n",
              "    </tr>\n",
              "  </thead>\n",
              "  <tbody>\n",
              "    <tr>\n",
              "      <th>0</th>\n",
              "      <td>$BYND - JPMorgan reels in expectations on Beyo...</td>\n",
              "      <td>0</td>\n",
              "    </tr>\n",
              "    <tr>\n",
              "      <th>1</th>\n",
              "      <td>$CCL $RCL - Nomura points to bookings weakness...</td>\n",
              "      <td>0</td>\n",
              "    </tr>\n",
              "    <tr>\n",
              "      <th>2</th>\n",
              "      <td>$CX - Cemex cut at Credit Suisse, J.P. Morgan ...</td>\n",
              "      <td>0</td>\n",
              "    </tr>\n",
              "    <tr>\n",
              "      <th>3</th>\n",
              "      <td>$ESS: BTIG Research cuts to Neutral https://t....</td>\n",
              "      <td>0</td>\n",
              "    </tr>\n",
              "    <tr>\n",
              "      <th>4</th>\n",
              "      <td>$FNKO - Funko slides after Piper Jaffray PT cu...</td>\n",
              "      <td>0</td>\n",
              "    </tr>\n",
              "  </tbody>\n",
              "</table>\n",
              "</div>"
            ],
            "text/plain": [
              "                                                text  label\n",
              "0  $BYND - JPMorgan reels in expectations on Beyo...      0\n",
              "1  $CCL $RCL - Nomura points to bookings weakness...      0\n",
              "2  $CX - Cemex cut at Credit Suisse, J.P. Morgan ...      0\n",
              "3  $ESS: BTIG Research cuts to Neutral https://t....      0\n",
              "4  $FNKO - Funko slides after Piper Jaffray PT cu...      0"
            ]
          },
          "execution_count": 3,
          "metadata": {},
          "output_type": "execute_result"
        }
      ],
      "source": [
        "# Load the data\n",
        "data = pd.read_csv('sent_train.csv')\n",
        "data.head()\n"
      ]
    },
    {
      "cell_type": "code",
      "execution_count": 7,
      "metadata": {
        "colab": {
          "base_uri": "https://localhost:8080/"
        },
        "id": "OjEMnI4s_zBE",
        "outputId": "8ff0ed1d-0e29-4346-a5cb-40bb51a7cafb"
      },
      "outputs": [
        {
          "name": "stderr",
          "output_type": "stream",
          "text": [
            "[nltk_data] Downloading package stopwords to\n",
            "[nltk_data]     C:\\Users\\yemia\\AppData\\Roaming\\nltk_data...\n",
            "[nltk_data]   Unzipping corpora\\stopwords.zip.\n"
          ]
        },
        {
          "data": {
            "text/html": [
              "<div>\n",
              "<style scoped>\n",
              "    .dataframe tbody tr th:only-of-type {\n",
              "        vertical-align: middle;\n",
              "    }\n",
              "\n",
              "    .dataframe tbody tr th {\n",
              "        vertical-align: top;\n",
              "    }\n",
              "\n",
              "    .dataframe thead th {\n",
              "        text-align: right;\n",
              "    }\n",
              "</style>\n",
              "<table border=\"1\" class=\"dataframe\">\n",
              "  <thead>\n",
              "    <tr style=\"text-align: right;\">\n",
              "      <th></th>\n",
              "      <th>text</th>\n",
              "      <th>label</th>\n",
              "      <th>cleaned_text</th>\n",
              "      <th>processed_text</th>\n",
              "    </tr>\n",
              "  </thead>\n",
              "  <tbody>\n",
              "    <tr>\n",
              "      <th>0</th>\n",
              "      <td>$BYND - JPMorgan reels in expectations on Beyo...</td>\n",
              "      <td>0</td>\n",
              "      <td>jpmorgan reels in expectations on beyond meat</td>\n",
              "      <td>jpmorgan reel expect beyond meat</td>\n",
              "    </tr>\n",
              "    <tr>\n",
              "      <th>1</th>\n",
              "      <td>$CCL $RCL - Nomura points to bookings weakness...</td>\n",
              "      <td>0</td>\n",
              "      <td>nomura points to bookings weakness at carnival...</td>\n",
              "      <td>nomura point book weak carniv royal caribbean</td>\n",
              "    </tr>\n",
              "    <tr>\n",
              "      <th>2</th>\n",
              "      <td>$CX - Cemex cut at Credit Suisse, J.P. Morgan ...</td>\n",
              "      <td>0</td>\n",
              "      <td>cemex cut at credit suisse j p morgan on weak ...</td>\n",
              "      <td>cemex cut credit suiss j p morgan weak build o...</td>\n",
              "    </tr>\n",
              "    <tr>\n",
              "      <th>3</th>\n",
              "      <td>$ESS: BTIG Research cuts to Neutral https://t....</td>\n",
              "      <td>0</td>\n",
              "      <td>btig research cuts to neutral</td>\n",
              "      <td>btig research cut neutral</td>\n",
              "    </tr>\n",
              "    <tr>\n",
              "      <th>4</th>\n",
              "      <td>$FNKO - Funko slides after Piper Jaffray PT cu...</td>\n",
              "      <td>0</td>\n",
              "      <td>funko slides after piper jaffray pt cut</td>\n",
              "      <td>funko slide piper jaffray pt cut</td>\n",
              "    </tr>\n",
              "  </tbody>\n",
              "</table>\n",
              "</div>"
            ],
            "text/plain": [
              "                                                text  label  \\\n",
              "0  $BYND - JPMorgan reels in expectations on Beyo...      0   \n",
              "1  $CCL $RCL - Nomura points to bookings weakness...      0   \n",
              "2  $CX - Cemex cut at Credit Suisse, J.P. Morgan ...      0   \n",
              "3  $ESS: BTIG Research cuts to Neutral https://t....      0   \n",
              "4  $FNKO - Funko slides after Piper Jaffray PT cu...      0   \n",
              "\n",
              "                                        cleaned_text  \\\n",
              "0      jpmorgan reels in expectations on beyond meat   \n",
              "1  nomura points to bookings weakness at carnival...   \n",
              "2  cemex cut at credit suisse j p morgan on weak ...   \n",
              "3                      btig research cuts to neutral   \n",
              "4            funko slides after piper jaffray pt cut   \n",
              "\n",
              "                                      processed_text  \n",
              "0                   jpmorgan reel expect beyond meat  \n",
              "1      nomura point book weak carniv royal caribbean  \n",
              "2  cemex cut credit suiss j p morgan weak build o...  \n",
              "3                          btig research cut neutral  \n",
              "4                   funko slide piper jaffray pt cut  "
            ]
          },
          "execution_count": 7,
          "metadata": {},
          "output_type": "execute_result"
        }
      ],
      "source": [
        "# Install the stopwords resource\n",
        "nltk.download('stopwords')\n",
        "\n",
        "# Data cleaning\n",
        "def clean_text(text):\n",
        "    text = re.sub(r'http\\S+|www\\S+|https\\S+', '', text, flags=re.MULTILINE)\n",
        "    text = re.sub(r'\\$[A-Za-z]+', '', text)  # Remove stock symbols\n",
        "    text = re.sub(r'\\W+', ' ', text.lower())  # Remove non-word characters and convert to lowercase\n",
        "    return text.strip()\n",
        "\n",
        "data['cleaned_text'] = data['text'].apply(clean_text)\n",
        "\n",
        "# Remove stop words and perform stemming\n",
        "stop_words = set(stopwords.words('english'))\n",
        "stemmer = PorterStemmer()\n",
        "\n",
        "data['processed_text'] = data['cleaned_text'].apply(lambda x: ' '.join([stemmer.stem(word) for word in x.split() if word not in stop_words]))\n",
        "\n",
        "# Now, 'processed_text' column contains the preprocessed text data\n",
        "data.head()"
      ]
    },
    {
      "cell_type": "code",
      "execution_count": 20,
      "metadata": {
        "id": "cCR9MZ3BCGQ8"
      },
      "outputs": [],
      "source": [
        "# TF-IDF Vectorization\n",
        "tfidf_vectorizer = TfidfVectorizer(max_features=5000)  # Choose the maximum number of features\n",
        "X = tfidf_vectorizer.fit_transform(data['processed_text']).toarray()\n",
        "y = data['label']"
      ]
    },
    {
      "cell_type": "code",
      "execution_count": 23,
      "metadata": {
        "id": "41k8Mx-0EalQ"
      },
      "outputs": [
        {
          "name": "stdout",
          "output_type": "stream",
          "text": [
            "Accuracy: 0.74\n",
            "              precision    recall  f1-score   support\n",
            "\n",
            "           0       0.89      0.18      0.29       285\n",
            "           1       0.75      0.38      0.50       391\n",
            "           2       0.73      0.98      0.84      1233\n",
            "\n",
            "    accuracy                           0.74      1909\n",
            "   macro avg       0.79      0.51      0.55      1909\n",
            "weighted avg       0.76      0.74      0.69      1909\n",
            "\n"
          ]
        }
      ],
      "source": [
        "from sklearn.model_selection import train_test_split\n",
        "\n",
        "X_train, X_test, y_train, y_test = train_test_split(X, y, test_size=0.2, random_state=42)\n",
        "# Model training\n",
        "naive_bayes = MultinomialNB()\n",
        "naive_bayes.fit(X_train, y_train)\n",
        "# Model prediction\n",
        "y_pred = naive_bayes.predict(X_test)\n",
        "\n",
        "# Model evaluation\n",
        "accuracy = accuracy_score(y_test, y_pred)\n",
        "print(f\"Accuracy: {accuracy:.2f}\")\n",
        "print(classification_report(y_test, y_pred))\n"
      ]
    },
    {
      "cell_type": "markdown",
      "metadata": {},
      "source": [
        "# Evaluating Validation Data"
      ]
    },
    {
      "cell_type": "code",
      "execution_count": 24,
      "metadata": {},
      "outputs": [
        {
          "data": {
            "text/html": [
              "<div>\n",
              "<style scoped>\n",
              "    .dataframe tbody tr th:only-of-type {\n",
              "        vertical-align: middle;\n",
              "    }\n",
              "\n",
              "    .dataframe tbody tr th {\n",
              "        vertical-align: top;\n",
              "    }\n",
              "\n",
              "    .dataframe thead th {\n",
              "        text-align: right;\n",
              "    }\n",
              "</style>\n",
              "<table border=\"1\" class=\"dataframe\">\n",
              "  <thead>\n",
              "    <tr style=\"text-align: right;\">\n",
              "      <th></th>\n",
              "      <th>text</th>\n",
              "      <th>label</th>\n",
              "    </tr>\n",
              "  </thead>\n",
              "  <tbody>\n",
              "    <tr>\n",
              "      <th>0</th>\n",
              "      <td>$ALLY - Ally Financial pulls outlook https://t...</td>\n",
              "      <td>0</td>\n",
              "    </tr>\n",
              "    <tr>\n",
              "      <th>1</th>\n",
              "      <td>$DELL $HPE - Dell, HPE targets trimmed on comp...</td>\n",
              "      <td>0</td>\n",
              "    </tr>\n",
              "    <tr>\n",
              "      <th>2</th>\n",
              "      <td>$PRTY - Moody's turns negative on Party City h...</td>\n",
              "      <td>0</td>\n",
              "    </tr>\n",
              "    <tr>\n",
              "      <th>3</th>\n",
              "      <td>$SAN: Deutsche Bank cuts to Hold</td>\n",
              "      <td>0</td>\n",
              "    </tr>\n",
              "    <tr>\n",
              "      <th>4</th>\n",
              "      <td>$SITC: Compass Point cuts to Sell</td>\n",
              "      <td>0</td>\n",
              "    </tr>\n",
              "  </tbody>\n",
              "</table>\n",
              "</div>"
            ],
            "text/plain": [
              "                                                text  label\n",
              "0  $ALLY - Ally Financial pulls outlook https://t...      0\n",
              "1  $DELL $HPE - Dell, HPE targets trimmed on comp...      0\n",
              "2  $PRTY - Moody's turns negative on Party City h...      0\n",
              "3                   $SAN: Deutsche Bank cuts to Hold      0\n",
              "4                  $SITC: Compass Point cuts to Sell      0"
            ]
          },
          "execution_count": 24,
          "metadata": {},
          "output_type": "execute_result"
        }
      ],
      "source": [
        "# Load the data\n",
        "val_data = pd.read_csv('sent_valid.csv')\n",
        "val_data.head()"
      ]
    },
    {
      "cell_type": "code",
      "execution_count": 25,
      "metadata": {},
      "outputs": [
        {
          "data": {
            "text/html": [
              "<div>\n",
              "<style scoped>\n",
              "    .dataframe tbody tr th:only-of-type {\n",
              "        vertical-align: middle;\n",
              "    }\n",
              "\n",
              "    .dataframe tbody tr th {\n",
              "        vertical-align: top;\n",
              "    }\n",
              "\n",
              "    .dataframe thead th {\n",
              "        text-align: right;\n",
              "    }\n",
              "</style>\n",
              "<table border=\"1\" class=\"dataframe\">\n",
              "  <thead>\n",
              "    <tr style=\"text-align: right;\">\n",
              "      <th></th>\n",
              "      <th>text</th>\n",
              "      <th>label</th>\n",
              "      <th>cleaned_text</th>\n",
              "      <th>processed_text</th>\n",
              "    </tr>\n",
              "  </thead>\n",
              "  <tbody>\n",
              "    <tr>\n",
              "      <th>0</th>\n",
              "      <td>$ALLY - Ally Financial pulls outlook https://t...</td>\n",
              "      <td>0</td>\n",
              "      <td>ally financial pulls outlook</td>\n",
              "      <td>alli financi pull outlook</td>\n",
              "    </tr>\n",
              "    <tr>\n",
              "      <th>1</th>\n",
              "      <td>$DELL $HPE - Dell, HPE targets trimmed on comp...</td>\n",
              "      <td>0</td>\n",
              "      <td>dell hpe targets trimmed on compute headwinds</td>\n",
              "      <td>dell hpe target trim comput headwind</td>\n",
              "    </tr>\n",
              "    <tr>\n",
              "      <th>2</th>\n",
              "      <td>$PRTY - Moody's turns negative on Party City h...</td>\n",
              "      <td>0</td>\n",
              "      <td>moody s turns negative on party city</td>\n",
              "      <td>moodi turn neg parti citi</td>\n",
              "    </tr>\n",
              "    <tr>\n",
              "      <th>3</th>\n",
              "      <td>$SAN: Deutsche Bank cuts to Hold</td>\n",
              "      <td>0</td>\n",
              "      <td>deutsche bank cuts to hold</td>\n",
              "      <td>deutsch bank cut hold</td>\n",
              "    </tr>\n",
              "    <tr>\n",
              "      <th>4</th>\n",
              "      <td>$SITC: Compass Point cuts to Sell</td>\n",
              "      <td>0</td>\n",
              "      <td>compass point cuts to sell</td>\n",
              "      <td>compass point cut sell</td>\n",
              "    </tr>\n",
              "  </tbody>\n",
              "</table>\n",
              "</div>"
            ],
            "text/plain": [
              "                                                text  label  \\\n",
              "0  $ALLY - Ally Financial pulls outlook https://t...      0   \n",
              "1  $DELL $HPE - Dell, HPE targets trimmed on comp...      0   \n",
              "2  $PRTY - Moody's turns negative on Party City h...      0   \n",
              "3                   $SAN: Deutsche Bank cuts to Hold      0   \n",
              "4                  $SITC: Compass Point cuts to Sell      0   \n",
              "\n",
              "                                    cleaned_text  \\\n",
              "0                   ally financial pulls outlook   \n",
              "1  dell hpe targets trimmed on compute headwinds   \n",
              "2           moody s turns negative on party city   \n",
              "3                     deutsche bank cuts to hold   \n",
              "4                     compass point cuts to sell   \n",
              "\n",
              "                         processed_text  \n",
              "0             alli financi pull outlook  \n",
              "1  dell hpe target trim comput headwind  \n",
              "2             moodi turn neg parti citi  \n",
              "3                 deutsch bank cut hold  \n",
              "4                compass point cut sell  "
            ]
          },
          "execution_count": 25,
          "metadata": {},
          "output_type": "execute_result"
        }
      ],
      "source": [
        "val_data['cleaned_text'] = val_data['text'].apply(clean_text)\n",
        "val_data['processed_text'] = val_data['cleaned_text'].apply(lambda x: ' '.join([stemmer.stem(word) for word in x.split() if word not in stop_words]))\n",
        "\n",
        "# Now, 'processed_text' column contains the preprocessed text data\n",
        "val_data.head()"
      ]
    },
    {
      "cell_type": "code",
      "execution_count": 26,
      "metadata": {},
      "outputs": [
        {
          "name": "stdout",
          "output_type": "stream",
          "text": [
            "Accuracy: 0.61\n",
            "              precision    recall  f1-score   support\n",
            "\n",
            "           0       0.15      0.04      0.07       347\n",
            "           1       0.27      0.11      0.16       475\n",
            "           2       0.66      0.88      0.76      1566\n",
            "\n",
            "    accuracy                           0.61      2388\n",
            "   macro avg       0.36      0.35      0.33      2388\n",
            "weighted avg       0.51      0.61      0.54      2388\n",
            "\n"
          ]
        }
      ],
      "source": [
        "## Evaluating Validation Data\n",
        "\n",
        "# TF-IDF Vectorization\n",
        "tfidf_vectorizer = TfidfVectorizer(max_features=5000)  # Choose the maximum number of features\n",
        "val_X = tfidf_vectorizer.fit_transform(val_data['processed_text']).toarray()\n",
        "val_y = val_data['label']\n",
        "\n",
        "# Model prediction\n",
        "val_y_pred = naive_bayes.predict(val_X)\n",
        "# Model evaluation\n",
        "val_accuracy = accuracy_score(val_y, val_y_pred)\n",
        "print(f\"Accuracy: {val_accuracy:.2f}\")\n",
        "print(classification_report(val_y, val_y_pred))"
      ]
    }
  ],
  "metadata": {
    "colab": {
      "provenance": []
    },
    "kernelspec": {
      "display_name": "Python 3",
      "name": "python3"
    },
    "language_info": {
      "codemirror_mode": {
        "name": "ipython",
        "version": 3
      },
      "file_extension": ".py",
      "mimetype": "text/x-python",
      "name": "python",
      "nbconvert_exporter": "python",
      "pygments_lexer": "ipython3",
      "version": "3.9.13"
    }
  },
  "nbformat": 4,
  "nbformat_minor": 0
}
